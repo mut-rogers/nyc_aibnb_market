{
 "cells": [
  {
   "cell_type": "code",
   "execution_count": 149,
   "metadata": {},
   "outputs": [],
   "source": [
    "# Loading the necessary packages \n",
    "import pandas as pd\n",
    "import numpy as np\n",
    "import matplotlib.pyplot as plt \n",
    "import seaborn as sns"
   ]
  },
  {
   "cell_type": "markdown",
   "metadata": {},
   "source": [
    "### 1. Exploring the NYC AirBnB Data"
   ]
  },
  {
   "cell_type": "markdown",
   "metadata": {},
   "source": [
    "- Loading the data"
   ]
  },
  {
   "cell_type": "code",
   "execution_count": 150,
   "metadata": {},
   "outputs": [],
   "source": [
    "price_dataset = pd.read_csv(\"airbnb_price.csv\", index_col=\"listing_id\")\n",
    "last_review = pd.read_csv(\"airbnb_last_review.csv\", parse_dates=True)\n",
    "room_type = pd.read_excel(\"airbnb_room_type.xlsx\", index_col=\"listing_id\")"
   ]
  },
  {
   "cell_type": "code",
   "execution_count": 151,
   "metadata": {},
   "outputs": [
    {
     "data": {
      "text/plain": [
       "Index([' listing_id', 'host_name', 'last_review'], dtype='object')"
      ]
     },
     "execution_count": 151,
     "metadata": {},
     "output_type": "execute_result"
    }
   ],
   "source": [
    "# Removing leading whitespaces from the \" listing_id\" column then make it the index column\n",
    "last_review.columns"
   ]
  },
  {
   "cell_type": "code",
   "execution_count": 152,
   "metadata": {},
   "outputs": [],
   "source": [
    "last_review.columns = last_review.columns.str.strip()"
   ]
  },
  {
   "cell_type": "code",
   "execution_count": 153,
   "metadata": {},
   "outputs": [],
   "source": [
    "# Now using the stripped col as the index col \n",
    "last_review.set_index(\"listing_id\", inplace=True)"
   ]
  },
  {
   "cell_type": "code",
   "execution_count": 154,
   "metadata": {},
   "outputs": [
    {
     "data": {
      "text/plain": [
       "(25209, 2)"
      ]
     },
     "execution_count": 154,
     "metadata": {},
     "output_type": "execute_result"
    }
   ],
   "source": [
    "last_review.shape"
   ]
  },
  {
   "cell_type": "code",
   "execution_count": 155,
   "metadata": {},
   "outputs": [
    {
     "data": {
      "text/plain": [
       "(25209, 2)"
      ]
     },
     "execution_count": 155,
     "metadata": {},
     "output_type": "execute_result"
    }
   ],
   "source": [
    "price_dataset.shape"
   ]
  },
  {
   "cell_type": "code",
   "execution_count": 156,
   "metadata": {},
   "outputs": [
    {
     "data": {
      "text/plain": [
       "(25209, 2)"
      ]
     },
     "execution_count": 156,
     "metadata": {},
     "output_type": "execute_result"
    }
   ],
   "source": [
    "room_type.shape"
   ]
  },
  {
   "cell_type": "code",
   "execution_count": 157,
   "metadata": {},
   "outputs": [
    {
     "data": {
      "text/html": [
       "<div>\n",
       "<style scoped>\n",
       "    .dataframe tbody tr th:only-of-type {\n",
       "        vertical-align: middle;\n",
       "    }\n",
       "\n",
       "    .dataframe tbody tr th {\n",
       "        vertical-align: top;\n",
       "    }\n",
       "\n",
       "    .dataframe thead th {\n",
       "        text-align: right;\n",
       "    }\n",
       "</style>\n",
       "<table border=\"1\" class=\"dataframe\">\n",
       "  <thead>\n",
       "    <tr style=\"text-align: right;\">\n",
       "      <th></th>\n",
       "      <th>description</th>\n",
       "      <th>room_type</th>\n",
       "    </tr>\n",
       "    <tr>\n",
       "      <th>listing_id</th>\n",
       "      <th></th>\n",
       "      <th></th>\n",
       "    </tr>\n",
       "  </thead>\n",
       "  <tbody>\n",
       "    <tr>\n",
       "      <th>2595</th>\n",
       "      <td>Skylit Midtown Castle</td>\n",
       "      <td>Entire home/apt</td>\n",
       "    </tr>\n",
       "    <tr>\n",
       "      <th>3831</th>\n",
       "      <td>Cozy Entire Floor of Brownstone</td>\n",
       "      <td>Entire home/apt</td>\n",
       "    </tr>\n",
       "    <tr>\n",
       "      <th>5099</th>\n",
       "      <td>Large Cozy 1 BR Apartment In Midtown East</td>\n",
       "      <td>Entire home/apt</td>\n",
       "    </tr>\n",
       "    <tr>\n",
       "      <th>5178</th>\n",
       "      <td>Large Furnished Room Near B'way</td>\n",
       "      <td>private room</td>\n",
       "    </tr>\n",
       "    <tr>\n",
       "      <th>5238</th>\n",
       "      <td>Cute &amp; Cozy Lower East Side 1 bdrm</td>\n",
       "      <td>Entire home/apt</td>\n",
       "    </tr>\n",
       "  </tbody>\n",
       "</table>\n",
       "</div>"
      ],
      "text/plain": [
       "                                          description        room_type\n",
       "listing_id                                                            \n",
       "2595                            Skylit Midtown Castle  Entire home/apt\n",
       "3831                  Cozy Entire Floor of Brownstone  Entire home/apt\n",
       "5099        Large Cozy 1 BR Apartment In Midtown East  Entire home/apt\n",
       "5178                  Large Furnished Room Near B'way     private room\n",
       "5238               Cute & Cozy Lower East Side 1 bdrm  Entire home/apt"
      ]
     },
     "execution_count": 157,
     "metadata": {},
     "output_type": "execute_result"
    }
   ],
   "source": [
    "room_type.head()"
   ]
  },
  {
   "cell_type": "markdown",
   "metadata": {},
   "source": [
    "- The dataframes have an equal number of rows and a common index column - \"listing_id\""
   ]
  },
  {
   "cell_type": "code",
   "execution_count": 158,
   "metadata": {},
   "outputs": [
    {
     "data": {
      "text/html": [
       "<div>\n",
       "<style scoped>\n",
       "    .dataframe tbody tr th:only-of-type {\n",
       "        vertical-align: middle;\n",
       "    }\n",
       "\n",
       "    .dataframe tbody tr th {\n",
       "        vertical-align: top;\n",
       "    }\n",
       "\n",
       "    .dataframe thead th {\n",
       "        text-align: right;\n",
       "    }\n",
       "</style>\n",
       "<table border=\"1\" class=\"dataframe\">\n",
       "  <thead>\n",
       "    <tr style=\"text-align: right;\">\n",
       "      <th></th>\n",
       "      <th>price</th>\n",
       "      <th>nbhood_full</th>\n",
       "      <th>description</th>\n",
       "      <th>room_type</th>\n",
       "      <th>host_name</th>\n",
       "      <th>last_review</th>\n",
       "    </tr>\n",
       "    <tr>\n",
       "      <th>listing_id</th>\n",
       "      <th></th>\n",
       "      <th></th>\n",
       "      <th></th>\n",
       "      <th></th>\n",
       "      <th></th>\n",
       "      <th></th>\n",
       "    </tr>\n",
       "  </thead>\n",
       "  <tbody>\n",
       "    <tr>\n",
       "      <th>2595</th>\n",
       "      <td>225 dollars</td>\n",
       "      <td>Manhattan, Midtown</td>\n",
       "      <td>Skylit Midtown Castle</td>\n",
       "      <td>Entire home/apt</td>\n",
       "      <td>Jennifer</td>\n",
       "      <td>May 21 2019</td>\n",
       "    </tr>\n",
       "    <tr>\n",
       "      <th>3831</th>\n",
       "      <td>89 dollars</td>\n",
       "      <td>Brooklyn, Clinton Hill</td>\n",
       "      <td>Cozy Entire Floor of Brownstone</td>\n",
       "      <td>Entire home/apt</td>\n",
       "      <td>LisaRoxanne</td>\n",
       "      <td>July 05 2019</td>\n",
       "    </tr>\n",
       "    <tr>\n",
       "      <th>5099</th>\n",
       "      <td>200 dollars</td>\n",
       "      <td>Manhattan, Murray Hill</td>\n",
       "      <td>Large Cozy 1 BR Apartment In Midtown East</td>\n",
       "      <td>Entire home/apt</td>\n",
       "      <td>Chris</td>\n",
       "      <td>June 22 2019</td>\n",
       "    </tr>\n",
       "    <tr>\n",
       "      <th>5178</th>\n",
       "      <td>79 dollars</td>\n",
       "      <td>Manhattan, Hell's Kitchen</td>\n",
       "      <td>Large Furnished Room Near B'way</td>\n",
       "      <td>private room</td>\n",
       "      <td>Shunichi</td>\n",
       "      <td>June 24 2019</td>\n",
       "    </tr>\n",
       "    <tr>\n",
       "      <th>5238</th>\n",
       "      <td>150 dollars</td>\n",
       "      <td>Manhattan, Chinatown</td>\n",
       "      <td>Cute &amp; Cozy Lower East Side 1 bdrm</td>\n",
       "      <td>Entire home/apt</td>\n",
       "      <td>Ben</td>\n",
       "      <td>June 09 2019</td>\n",
       "    </tr>\n",
       "    <tr>\n",
       "      <th>5295</th>\n",
       "      <td>135 dollars</td>\n",
       "      <td>Manhattan, Upper West Side</td>\n",
       "      <td>Beautiful 1br on Upper West Side</td>\n",
       "      <td>Entire home/apt</td>\n",
       "      <td>Lena</td>\n",
       "      <td>June 22 2019</td>\n",
       "    </tr>\n",
       "    <tr>\n",
       "      <th>5441</th>\n",
       "      <td>85 dollars</td>\n",
       "      <td>Manhattan, Hell's Kitchen</td>\n",
       "      <td>Central Manhattan/near Broadway</td>\n",
       "      <td>Private room</td>\n",
       "      <td>Kate</td>\n",
       "      <td>June 23 2019</td>\n",
       "    </tr>\n",
       "    <tr>\n",
       "      <th>5803</th>\n",
       "      <td>89 dollars</td>\n",
       "      <td>Brooklyn, South Slope</td>\n",
       "      <td>Lovely Room 1, Garden, Best Area, Legal rental</td>\n",
       "      <td>Private room</td>\n",
       "      <td>Laurie</td>\n",
       "      <td>June 24 2019</td>\n",
       "    </tr>\n",
       "    <tr>\n",
       "      <th>6021</th>\n",
       "      <td>85 dollars</td>\n",
       "      <td>Manhattan, Upper West Side</td>\n",
       "      <td>Wonderful Guest Bedroom in Manhattan for SINGLES</td>\n",
       "      <td>Private room</td>\n",
       "      <td>Claudio</td>\n",
       "      <td>July 05 2019</td>\n",
       "    </tr>\n",
       "    <tr>\n",
       "      <th>6848</th>\n",
       "      <td>140 dollars</td>\n",
       "      <td>Brooklyn, Williamsburg</td>\n",
       "      <td>Only 2 stops to Manhattan studio</td>\n",
       "      <td>entire home/apt</td>\n",
       "      <td>Allen &amp; Irina</td>\n",
       "      <td>June 29 2019</td>\n",
       "    </tr>\n",
       "  </tbody>\n",
       "</table>\n",
       "</div>"
      ],
      "text/plain": [
       "                  price                 nbhood_full  \\\n",
       "listing_id                                            \n",
       "2595        225 dollars          Manhattan, Midtown   \n",
       "3831         89 dollars      Brooklyn, Clinton Hill   \n",
       "5099        200 dollars      Manhattan, Murray Hill   \n",
       "5178         79 dollars   Manhattan, Hell's Kitchen   \n",
       "5238        150 dollars        Manhattan, Chinatown   \n",
       "5295        135 dollars  Manhattan, Upper West Side   \n",
       "5441         85 dollars   Manhattan, Hell's Kitchen   \n",
       "5803         89 dollars       Brooklyn, South Slope   \n",
       "6021         85 dollars  Manhattan, Upper West Side   \n",
       "6848        140 dollars      Brooklyn, Williamsburg   \n",
       "\n",
       "                                                 description        room_type  \\\n",
       "listing_id                                                                      \n",
       "2595                                   Skylit Midtown Castle  Entire home/apt   \n",
       "3831                         Cozy Entire Floor of Brownstone  Entire home/apt   \n",
       "5099               Large Cozy 1 BR Apartment In Midtown East  Entire home/apt   \n",
       "5178                         Large Furnished Room Near B'way     private room   \n",
       "5238                      Cute & Cozy Lower East Side 1 bdrm  Entire home/apt   \n",
       "5295                        Beautiful 1br on Upper West Side  Entire home/apt   \n",
       "5441                         Central Manhattan/near Broadway     Private room   \n",
       "5803          Lovely Room 1, Garden, Best Area, Legal rental     Private room   \n",
       "6021        Wonderful Guest Bedroom in Manhattan for SINGLES     Private room   \n",
       "6848                        Only 2 stops to Manhattan studio  entire home/apt   \n",
       "\n",
       "                host_name   last_review  \n",
       "listing_id                               \n",
       "2595             Jennifer   May 21 2019  \n",
       "3831          LisaRoxanne  July 05 2019  \n",
       "5099                Chris  June 22 2019  \n",
       "5178             Shunichi  June 24 2019  \n",
       "5238                  Ben  June 09 2019  \n",
       "5295                 Lena  June 22 2019  \n",
       "5441                 Kate  June 23 2019  \n",
       "5803               Laurie  June 24 2019  \n",
       "6021              Claudio  July 05 2019  \n",
       "6848        Allen & Irina  June 29 2019  "
      ]
     },
     "execution_count": 158,
     "metadata": {},
     "output_type": "execute_result"
    }
   ],
   "source": [
    "final_dataset = price_dataset.join(room_type).join(last_review)\n",
    "final_dataset.head(10)"
   ]
  },
  {
   "cell_type": "markdown",
   "metadata": {},
   "source": [
    "- Is there any missing data in the dataset?"
   ]
  },
  {
   "cell_type": "code",
   "execution_count": 159,
   "metadata": {},
   "outputs": [
    {
     "data": {
      "text/plain": [
       "price           0\n",
       "nbhood_full     0\n",
       "description    10\n",
       "room_type       0\n",
       "host_name       8\n",
       "last_review     0\n",
       "dtype: int64"
      ]
     },
     "execution_count": 159,
     "metadata": {},
     "output_type": "execute_result"
    }
   ],
   "source": [
    "final_dataset.isnull().sum()"
   ]
  },
  {
   "cell_type": "code",
   "execution_count": 160,
   "metadata": {},
   "outputs": [
    {
     "data": {
      "text/html": [
       "<div>\n",
       "<style scoped>\n",
       "    .dataframe tbody tr th:only-of-type {\n",
       "        vertical-align: middle;\n",
       "    }\n",
       "\n",
       "    .dataframe tbody tr th {\n",
       "        vertical-align: top;\n",
       "    }\n",
       "\n",
       "    .dataframe thead th {\n",
       "        text-align: right;\n",
       "    }\n",
       "</style>\n",
       "<table border=\"1\" class=\"dataframe\">\n",
       "  <thead>\n",
       "    <tr style=\"text-align: right;\">\n",
       "      <th></th>\n",
       "      <th>price</th>\n",
       "      <th>nbhood_full</th>\n",
       "      <th>description</th>\n",
       "      <th>room_type</th>\n",
       "      <th>host_name</th>\n",
       "      <th>last_review</th>\n",
       "    </tr>\n",
       "    <tr>\n",
       "      <th>listing_id</th>\n",
       "      <th></th>\n",
       "      <th></th>\n",
       "      <th></th>\n",
       "      <th></th>\n",
       "      <th></th>\n",
       "      <th></th>\n",
       "    </tr>\n",
       "  </thead>\n",
       "  <tbody>\n",
       "    <tr>\n",
       "      <th>7851219</th>\n",
       "      <td>60 dollars</td>\n",
       "      <td>Brooklyn, Williamsburg</td>\n",
       "      <td>NaN</td>\n",
       "      <td>PRIVATE ROOM</td>\n",
       "      <td>John</td>\n",
       "      <td>June 18 2019</td>\n",
       "    </tr>\n",
       "    <tr>\n",
       "      <th>7854307</th>\n",
       "      <td>60 dollars</td>\n",
       "      <td>Brooklyn, Williamsburg</td>\n",
       "      <td>NaN</td>\n",
       "      <td>private room</td>\n",
       "      <td>John</td>\n",
       "      <td>June 15 2019</td>\n",
       "    </tr>\n",
       "    <tr>\n",
       "      <th>7858673</th>\n",
       "      <td>60 dollars</td>\n",
       "      <td>Brooklyn, Williamsburg</td>\n",
       "      <td>NaN</td>\n",
       "      <td>Private room</td>\n",
       "      <td>John</td>\n",
       "      <td>June 08 2019</td>\n",
       "    </tr>\n",
       "    <tr>\n",
       "      <th>7873655</th>\n",
       "      <td>60 dollars</td>\n",
       "      <td>Brooklyn, Williamsburg</td>\n",
       "      <td>NaN</td>\n",
       "      <td>PRIVATE ROOM</td>\n",
       "      <td>John</td>\n",
       "      <td>June 21 2019</td>\n",
       "    </tr>\n",
       "    <tr>\n",
       "      <th>7886635</th>\n",
       "      <td>60 dollars</td>\n",
       "      <td>Brooklyn, Williamsburg</td>\n",
       "      <td>NaN</td>\n",
       "      <td>Private room</td>\n",
       "      <td>John</td>\n",
       "      <td>June 18 2019</td>\n",
       "    </tr>\n",
       "    <tr>\n",
       "      <th>7901635</th>\n",
       "      <td>60 dollars</td>\n",
       "      <td>Brooklyn, Williamsburg</td>\n",
       "      <td>NaN</td>\n",
       "      <td>Private room</td>\n",
       "      <td>John</td>\n",
       "      <td>June 23 2019</td>\n",
       "    </tr>\n",
       "    <tr>\n",
       "      <th>8192443</th>\n",
       "      <td>60 dollars</td>\n",
       "      <td>Brooklyn, Williamsburg</td>\n",
       "      <td>NaN</td>\n",
       "      <td>private room</td>\n",
       "      <td>John</td>\n",
       "      <td>June 23 2019</td>\n",
       "    </tr>\n",
       "    <tr>\n",
       "      <th>8341556</th>\n",
       "      <td>55 dollars</td>\n",
       "      <td>Manhattan, Harlem</td>\n",
       "      <td>NaN</td>\n",
       "      <td>Private room</td>\n",
       "      <td>Gordon M</td>\n",
       "      <td>May 26 2019</td>\n",
       "    </tr>\n",
       "    <tr>\n",
       "      <th>9698992</th>\n",
       "      <td>62 dollars</td>\n",
       "      <td>Manhattan, Harlem</td>\n",
       "      <td>NaN</td>\n",
       "      <td>private room</td>\n",
       "      <td>Gordon M</td>\n",
       "      <td>June 14 2019</td>\n",
       "    </tr>\n",
       "    <tr>\n",
       "      <th>21733545</th>\n",
       "      <td>175 dollars</td>\n",
       "      <td>Manhattan, Hell's Kitchen</td>\n",
       "      <td>NaN</td>\n",
       "      <td>Private room</td>\n",
       "      <td>Sybilla Michelle</td>\n",
       "      <td>June 30 2019</td>\n",
       "    </tr>\n",
       "  </tbody>\n",
       "</table>\n",
       "</div>"
      ],
      "text/plain": [
       "                  price                nbhood_full description     room_type  \\\n",
       "listing_id                                                                     \n",
       "7851219      60 dollars     Brooklyn, Williamsburg         NaN  PRIVATE ROOM   \n",
       "7854307      60 dollars     Brooklyn, Williamsburg         NaN  private room   \n",
       "7858673      60 dollars     Brooklyn, Williamsburg         NaN  Private room   \n",
       "7873655      60 dollars     Brooklyn, Williamsburg         NaN  PRIVATE ROOM   \n",
       "7886635      60 dollars     Brooklyn, Williamsburg         NaN  Private room   \n",
       "7901635      60 dollars     Brooklyn, Williamsburg         NaN  Private room   \n",
       "8192443      60 dollars     Brooklyn, Williamsburg         NaN  private room   \n",
       "8341556      55 dollars          Manhattan, Harlem         NaN  Private room   \n",
       "9698992      62 dollars          Manhattan, Harlem         NaN  private room   \n",
       "21733545    175 dollars  Manhattan, Hell's Kitchen         NaN  Private room   \n",
       "\n",
       "                   host_name   last_review  \n",
       "listing_id                                  \n",
       "7851219                 John  June 18 2019  \n",
       "7854307                 John  June 15 2019  \n",
       "7858673                 John  June 08 2019  \n",
       "7873655                 John  June 21 2019  \n",
       "7886635                 John  June 18 2019  \n",
       "7901635                 John  June 23 2019  \n",
       "8192443                 John  June 23 2019  \n",
       "8341556             Gordon M   May 26 2019  \n",
       "9698992             Gordon M  June 14 2019  \n",
       "21733545    Sybilla Michelle  June 30 2019  "
      ]
     },
     "execution_count": 160,
     "metadata": {},
     "output_type": "execute_result"
    }
   ],
   "source": [
    "# Looking at the missing subset of the data\n",
    "missing_df = final_dataset[final_dataset.description.isnull()] \n",
    "missing_df"
   ]
  },
  {
   "cell_type": "code",
   "execution_count": 161,
   "metadata": {},
   "outputs": [
    {
     "data": {
      "text/html": [
       "<div>\n",
       "<style scoped>\n",
       "    .dataframe tbody tr th:only-of-type {\n",
       "        vertical-align: middle;\n",
       "    }\n",
       "\n",
       "    .dataframe tbody tr th {\n",
       "        vertical-align: top;\n",
       "    }\n",
       "\n",
       "    .dataframe thead th {\n",
       "        text-align: right;\n",
       "    }\n",
       "</style>\n",
       "<table border=\"1\" class=\"dataframe\">\n",
       "  <thead>\n",
       "    <tr style=\"text-align: right;\">\n",
       "      <th></th>\n",
       "      <th>price</th>\n",
       "      <th>nbhood_full</th>\n",
       "      <th>description</th>\n",
       "      <th>room_type</th>\n",
       "      <th>host_name</th>\n",
       "      <th>last_review</th>\n",
       "    </tr>\n",
       "    <tr>\n",
       "      <th>listing_id</th>\n",
       "      <th></th>\n",
       "      <th></th>\n",
       "      <th></th>\n",
       "      <th></th>\n",
       "      <th></th>\n",
       "      <th></th>\n",
       "    </tr>\n",
       "  </thead>\n",
       "  <tbody>\n",
       "    <tr>\n",
       "      <th>100184</th>\n",
       "      <td>50 dollars</td>\n",
       "      <td>Queens, Queens Village</td>\n",
       "      <td>Bienvenue</td>\n",
       "      <td>private room</td>\n",
       "      <td>NaN</td>\n",
       "      <td>July 08 2019</td>\n",
       "    </tr>\n",
       "    <tr>\n",
       "      <th>4183989</th>\n",
       "      <td>86 dollars</td>\n",
       "      <td>Manhattan, Harlem</td>\n",
       "      <td>SPRING in the City!! Zen-Style Tranquil Bedroom</td>\n",
       "      <td>Private room</td>\n",
       "      <td>NaN</td>\n",
       "      <td>May 23 2019</td>\n",
       "    </tr>\n",
       "    <tr>\n",
       "      <th>6292866</th>\n",
       "      <td>85 dollars</td>\n",
       "      <td>Brooklyn, East Flatbush</td>\n",
       "      <td>Modern Quiet Gem Near All</td>\n",
       "      <td>entire home/apt</td>\n",
       "      <td>NaN</td>\n",
       "      <td>June 19 2019</td>\n",
       "    </tr>\n",
       "    <tr>\n",
       "      <th>6786181</th>\n",
       "      <td>100 dollars</td>\n",
       "      <td>Brooklyn, East Flatbush</td>\n",
       "      <td>R&amp;S Modern Spacious Hideaway</td>\n",
       "      <td>Entire home/apt</td>\n",
       "      <td>NaN</td>\n",
       "      <td>June 19 2019</td>\n",
       "    </tr>\n",
       "    <tr>\n",
       "      <th>12113879</th>\n",
       "      <td>220 dollars</td>\n",
       "      <td>Manhattan, Chelsea</td>\n",
       "      <td>Sunny, Large West Village 1 BR Near Everything</td>\n",
       "      <td>Entire home/apt</td>\n",
       "      <td>NaN</td>\n",
       "      <td>July 02 2019</td>\n",
       "    </tr>\n",
       "    <tr>\n",
       "      <th>15648096</th>\n",
       "      <td>75 dollars</td>\n",
       "      <td>Bronx, Highbridge</td>\n",
       "      <td>Spacious 2 bedroom close to Manhattan</td>\n",
       "      <td>Entire home/apt</td>\n",
       "      <td>NaN</td>\n",
       "      <td>July 07 2019</td>\n",
       "    </tr>\n",
       "    <tr>\n",
       "      <th>21867710</th>\n",
       "      <td>120 dollars</td>\n",
       "      <td>Manhattan, Hell's Kitchen</td>\n",
       "      <td>Amazing room in the centre on Manhatten! Welcome!</td>\n",
       "      <td>Private room</td>\n",
       "      <td>NaN</td>\n",
       "      <td>January 01 2019</td>\n",
       "    </tr>\n",
       "    <tr>\n",
       "      <th>21901156</th>\n",
       "      <td>120 dollars</td>\n",
       "      <td>Manhattan, Hell's Kitchen</td>\n",
       "      <td>Best Deal! Lovely place in Manhattan! Time Squ...</td>\n",
       "      <td>Private room</td>\n",
       "      <td>NaN</td>\n",
       "      <td>January 01 2019</td>\n",
       "    </tr>\n",
       "  </tbody>\n",
       "</table>\n",
       "</div>"
      ],
      "text/plain": [
       "                  price                nbhood_full  \\\n",
       "listing_id                                           \n",
       "100184       50 dollars     Queens, Queens Village   \n",
       "4183989      86 dollars          Manhattan, Harlem   \n",
       "6292866      85 dollars    Brooklyn, East Flatbush   \n",
       "6786181     100 dollars    Brooklyn, East Flatbush   \n",
       "12113879    220 dollars         Manhattan, Chelsea   \n",
       "15648096     75 dollars          Bronx, Highbridge   \n",
       "21867710    120 dollars  Manhattan, Hell's Kitchen   \n",
       "21901156    120 dollars  Manhattan, Hell's Kitchen   \n",
       "\n",
       "                                                  description  \\\n",
       "listing_id                                                      \n",
       "100184                                              Bienvenue   \n",
       "4183989       SPRING in the City!! Zen-Style Tranquil Bedroom   \n",
       "6292866                             Modern Quiet Gem Near All   \n",
       "6786181                          R&S Modern Spacious Hideaway   \n",
       "12113879       Sunny, Large West Village 1 BR Near Everything   \n",
       "15648096                Spacious 2 bedroom close to Manhattan   \n",
       "21867710    Amazing room in the centre on Manhatten! Welcome!   \n",
       "21901156    Best Deal! Lovely place in Manhattan! Time Squ...   \n",
       "\n",
       "                  room_type host_name      last_review  \n",
       "listing_id                                              \n",
       "100184         private room       NaN     July 08 2019  \n",
       "4183989        Private room       NaN      May 23 2019  \n",
       "6292866     entire home/apt       NaN     June 19 2019  \n",
       "6786181     Entire home/apt       NaN     June 19 2019  \n",
       "12113879    Entire home/apt       NaN     July 02 2019  \n",
       "15648096    Entire home/apt       NaN     July 07 2019  \n",
       "21867710       Private room       NaN  January 01 2019  \n",
       "21901156       Private room       NaN  January 01 2019  "
      ]
     },
     "execution_count": 161,
     "metadata": {},
     "output_type": "execute_result"
    }
   ],
   "source": [
    "missing_df2 = final_dataset[final_dataset.host_name.isnull()]\n",
    "missing_df2"
   ]
  },
  {
   "cell_type": "markdown",
   "metadata": {},
   "source": [
    "- The subset of the dataset with missing values is insignificant (around 18 rows) so we drop these rows"
   ]
  },
  {
   "cell_type": "code",
   "execution_count": 162,
   "metadata": {},
   "outputs": [
    {
     "data": {
      "text/plain": [
       "price          0\n",
       "nbhood_full    0\n",
       "description    0\n",
       "room_type      0\n",
       "host_name      0\n",
       "last_review    0\n",
       "dtype: int64"
      ]
     },
     "execution_count": 162,
     "metadata": {},
     "output_type": "execute_result"
    }
   ],
   "source": [
    "dropped_df = final_dataset.dropna(subset=[\"description\", \"host_name\"], inplace=True)\n",
    "final_dataset.isnull().sum()"
   ]
  },
  {
   "cell_type": "code",
   "execution_count": 163,
   "metadata": {},
   "outputs": [
    {
     "name": "stdout",
     "output_type": "stream",
     "text": [
      "<class 'pandas.core.frame.DataFrame'>\n",
      "Index: 25191 entries, 2595 to 36455809\n",
      "Data columns (total 6 columns):\n",
      " #   Column       Non-Null Count  Dtype \n",
      "---  ------       --------------  ----- \n",
      " 0   price        25191 non-null  object\n",
      " 1   nbhood_full  25191 non-null  object\n",
      " 2   description  25191 non-null  object\n",
      " 3   room_type    25191 non-null  object\n",
      " 4   host_name    25191 non-null  object\n",
      " 5   last_review  25191 non-null  object\n",
      "dtypes: object(6)\n",
      "memory usage: 1.3+ MB\n"
     ]
    }
   ],
   "source": [
    "final_dataset.info()"
   ]
  },
  {
   "cell_type": "markdown",
   "metadata": {},
   "source": [
    "- We want to clean the price column such that we strip the \"dollars\" part\n",
    "- We shall do so by extracting the numeric part of the string and converting it to float"
   ]
  },
  {
   "cell_type": "code",
   "execution_count": 164,
   "metadata": {},
   "outputs": [
    {
     "data": {
      "text/html": [
       "<div>\n",
       "<style scoped>\n",
       "    .dataframe tbody tr th:only-of-type {\n",
       "        vertical-align: middle;\n",
       "    }\n",
       "\n",
       "    .dataframe tbody tr th {\n",
       "        vertical-align: top;\n",
       "    }\n",
       "\n",
       "    .dataframe thead th {\n",
       "        text-align: right;\n",
       "    }\n",
       "</style>\n",
       "<table border=\"1\" class=\"dataframe\">\n",
       "  <thead>\n",
       "    <tr style=\"text-align: right;\">\n",
       "      <th></th>\n",
       "      <th>price</th>\n",
       "      <th>nbhood_full</th>\n",
       "      <th>description</th>\n",
       "      <th>room_type</th>\n",
       "      <th>host_name</th>\n",
       "      <th>last_review</th>\n",
       "    </tr>\n",
       "    <tr>\n",
       "      <th>listing_id</th>\n",
       "      <th></th>\n",
       "      <th></th>\n",
       "      <th></th>\n",
       "      <th></th>\n",
       "      <th></th>\n",
       "      <th></th>\n",
       "    </tr>\n",
       "  </thead>\n",
       "  <tbody>\n",
       "    <tr>\n",
       "      <th>2595</th>\n",
       "      <td>225.0</td>\n",
       "      <td>Manhattan, Midtown</td>\n",
       "      <td>Skylit Midtown Castle</td>\n",
       "      <td>Entire home/apt</td>\n",
       "      <td>Jennifer</td>\n",
       "      <td>May 21 2019</td>\n",
       "    </tr>\n",
       "    <tr>\n",
       "      <th>3831</th>\n",
       "      <td>89.0</td>\n",
       "      <td>Brooklyn, Clinton Hill</td>\n",
       "      <td>Cozy Entire Floor of Brownstone</td>\n",
       "      <td>Entire home/apt</td>\n",
       "      <td>LisaRoxanne</td>\n",
       "      <td>July 05 2019</td>\n",
       "    </tr>\n",
       "    <tr>\n",
       "      <th>5099</th>\n",
       "      <td>200.0</td>\n",
       "      <td>Manhattan, Murray Hill</td>\n",
       "      <td>Large Cozy 1 BR Apartment In Midtown East</td>\n",
       "      <td>Entire home/apt</td>\n",
       "      <td>Chris</td>\n",
       "      <td>June 22 2019</td>\n",
       "    </tr>\n",
       "    <tr>\n",
       "      <th>5178</th>\n",
       "      <td>79.0</td>\n",
       "      <td>Manhattan, Hell's Kitchen</td>\n",
       "      <td>Large Furnished Room Near B'way</td>\n",
       "      <td>private room</td>\n",
       "      <td>Shunichi</td>\n",
       "      <td>June 24 2019</td>\n",
       "    </tr>\n",
       "    <tr>\n",
       "      <th>5238</th>\n",
       "      <td>150.0</td>\n",
       "      <td>Manhattan, Chinatown</td>\n",
       "      <td>Cute &amp; Cozy Lower East Side 1 bdrm</td>\n",
       "      <td>Entire home/apt</td>\n",
       "      <td>Ben</td>\n",
       "      <td>June 09 2019</td>\n",
       "    </tr>\n",
       "  </tbody>\n",
       "</table>\n",
       "</div>"
      ],
      "text/plain": [
       "            price                nbhood_full  \\\n",
       "listing_id                                     \n",
       "2595        225.0         Manhattan, Midtown   \n",
       "3831         89.0     Brooklyn, Clinton Hill   \n",
       "5099        200.0     Manhattan, Murray Hill   \n",
       "5178         79.0  Manhattan, Hell's Kitchen   \n",
       "5238        150.0       Manhattan, Chinatown   \n",
       "\n",
       "                                          description        room_type  \\\n",
       "listing_id                                                               \n",
       "2595                            Skylit Midtown Castle  Entire home/apt   \n",
       "3831                  Cozy Entire Floor of Brownstone  Entire home/apt   \n",
       "5099        Large Cozy 1 BR Apartment In Midtown East  Entire home/apt   \n",
       "5178                  Large Furnished Room Near B'way     private room   \n",
       "5238               Cute & Cozy Lower East Side 1 bdrm  Entire home/apt   \n",
       "\n",
       "              host_name   last_review  \n",
       "listing_id                             \n",
       "2595           Jennifer   May 21 2019  \n",
       "3831        LisaRoxanne  July 05 2019  \n",
       "5099              Chris  June 22 2019  \n",
       "5178           Shunichi  June 24 2019  \n",
       "5238                Ben  June 09 2019  "
      ]
     },
     "execution_count": 164,
     "metadata": {},
     "output_type": "execute_result"
    }
   ],
   "source": [
    "# Extracting the numeric part of the string \n",
    "final_dataset[\"price\"] = final_dataset.price.str.extract(\"(\\d+)\").astype(\"float\")\n",
    "final_dataset.head()"
   ]
  },
  {
   "cell_type": "code",
   "execution_count": 165,
   "metadata": {},
   "outputs": [
    {
     "name": "stdout",
     "output_type": "stream",
     "text": [
      "<class 'pandas.core.frame.DataFrame'>\n",
      "Index: 25191 entries, 2595 to 36455809\n",
      "Data columns (total 6 columns):\n",
      " #   Column       Non-Null Count  Dtype  \n",
      "---  ------       --------------  -----  \n",
      " 0   price        25191 non-null  float64\n",
      " 1   nbhood_full  25191 non-null  object \n",
      " 2   description  25191 non-null  object \n",
      " 3   room_type    25191 non-null  object \n",
      " 4   host_name    25191 non-null  object \n",
      " 5   last_review  25191 non-null  object \n",
      "dtypes: float64(1), object(5)\n",
      "memory usage: 1.3+ MB\n"
     ]
    }
   ],
   "source": [
    "final_dataset.info()"
   ]
  },
  {
   "cell_type": "markdown",
   "metadata": {},
   "source": [
    "- Looking at some summary statistics "
   ]
  },
  {
   "cell_type": "code",
   "execution_count": 166,
   "metadata": {},
   "outputs": [
    {
     "data": {
      "text/html": [
       "<div>\n",
       "<style scoped>\n",
       "    .dataframe tbody tr th:only-of-type {\n",
       "        vertical-align: middle;\n",
       "    }\n",
       "\n",
       "    .dataframe tbody tr th {\n",
       "        vertical-align: top;\n",
       "    }\n",
       "\n",
       "    .dataframe thead th {\n",
       "        text-align: right;\n",
       "    }\n",
       "</style>\n",
       "<table border=\"1\" class=\"dataframe\">\n",
       "  <thead>\n",
       "    <tr style=\"text-align: right;\">\n",
       "      <th></th>\n",
       "      <th>price</th>\n",
       "    </tr>\n",
       "  </thead>\n",
       "  <tbody>\n",
       "    <tr>\n",
       "      <th>count</th>\n",
       "      <td>25191.000000</td>\n",
       "    </tr>\n",
       "    <tr>\n",
       "      <th>mean</th>\n",
       "      <td>141.816998</td>\n",
       "    </tr>\n",
       "    <tr>\n",
       "      <th>std</th>\n",
       "      <td>147.389669</td>\n",
       "    </tr>\n",
       "    <tr>\n",
       "      <th>min</th>\n",
       "      <td>0.000000</td>\n",
       "    </tr>\n",
       "    <tr>\n",
       "      <th>25%</th>\n",
       "      <td>69.000000</td>\n",
       "    </tr>\n",
       "    <tr>\n",
       "      <th>50%</th>\n",
       "      <td>105.000000</td>\n",
       "    </tr>\n",
       "    <tr>\n",
       "      <th>75%</th>\n",
       "      <td>175.000000</td>\n",
       "    </tr>\n",
       "    <tr>\n",
       "      <th>max</th>\n",
       "      <td>7500.000000</td>\n",
       "    </tr>\n",
       "  </tbody>\n",
       "</table>\n",
       "</div>"
      ],
      "text/plain": [
       "              price\n",
       "count  25191.000000\n",
       "mean     141.816998\n",
       "std      147.389669\n",
       "min        0.000000\n",
       "25%       69.000000\n",
       "50%      105.000000\n",
       "75%      175.000000\n",
       "max     7500.000000"
      ]
     },
     "execution_count": 166,
     "metadata": {},
     "output_type": "execute_result"
    }
   ],
   "source": [
    "# Summary statistics\n",
    "final_dataset.describe()"
   ]
  },
  {
   "cell_type": "markdown",
   "metadata": {},
   "source": [
    "- Saving the final dataset using pandas to the disk"
   ]
  },
  {
   "cell_type": "code",
   "execution_count": 177,
   "metadata": {},
   "outputs": [],
   "source": [
    "final_dataset.to_csv(\"cleaned_nyc_airbnb_data\", index=True)"
   ]
  },
  {
   "cell_type": "code",
   "execution_count": 181,
   "metadata": {},
   "outputs": [
    {
     "data": {
      "text/plain": [
       "0.05     40.0\n",
       "0.25     69.0\n",
       "0.50    105.0\n",
       "0.75    175.0\n",
       "Name: price, dtype: float64"
      ]
     },
     "execution_count": 181,
     "metadata": {},
     "output_type": "execute_result"
    }
   ],
   "source": [
    "# To be continued"
   ]
  },
  {
   "cell_type": "code",
   "execution_count": null,
   "metadata": {},
   "outputs": [],
   "source": []
  }
 ],
 "metadata": {
  "kernelspec": {
   "display_name": "Python 3",
   "language": "python",
   "name": "python3"
  },
  "language_info": {
   "codemirror_mode": {
    "name": "ipython",
    "version": 3
   },
   "file_extension": ".py",
   "mimetype": "text/x-python",
   "name": "python",
   "nbconvert_exporter": "python",
   "pygments_lexer": "ipython3",
   "version": "3.11.2"
  }
 },
 "nbformat": 4,
 "nbformat_minor": 2
}
